{
 "cells": [
  {
   "cell_type": "markdown",
   "id": "48198e87",
   "metadata": {},
   "source": [
    "PyTorch-Based Credit Card Fraud Detection: \n",
    "\n",
    "A Report Overview:\n",
    "\n",
    "Financial companies need to detect credit card theft in order to reduce losses and safeguard their clients. This research investigates the use of PyTorch to construct a neural network model for this purpose. The main ideas and implementation procedures are described, even though the precise code cannot be disclosed owing to secrecy.\n",
    "\n"
   ]
  },
  {
   "cell_type": "markdown",
   "id": "3ea01f7b",
   "metadata": {},
   "source": [
    "#Import Required Libraries"
   ]
  },
  {
   "cell_type": "code",
   "execution_count": 16,
   "id": "ad948d5e",
   "metadata": {},
   "outputs": [],
   "source": [
    "import numpy as np\n",
    "import pandas as pd\n",
    "import matplotlib.pyplot as plt\n",
    "import seaborn as sns\n",
    "import matplotlib.pyplot as plt"
   ]
  },
  {
   "cell_type": "markdown",
   "id": "ceef4ded",
   "metadata": {},
   "source": [
    "Techniques:\n",
    "\n",
    "Data Loading and Preprocessing: A placeholder is used to substitute the dataset path in order to load and preprocess a dataset on credit card fraud.\n",
    "Outliers and missing values are treated properly.\n",
    "Scaling numerical characteristics improves training.\n",
    "\n",
    "Model Design: PyTorch's nn.Module is used to define a neural network design.\n",
    "The task (binary classification) determines the selection of hyperparameters, including the output layer, activation function, and hidden layer size.\n",
    "\n",
    "Loss Function and Optimizer: For multi-class classification, binary cross-entropy loss is employed.\n",
    "Adam optimizer is selected due to its effectiveness and strong performance across a range of jobs.\n",
    "\n",
    "Both forward and backpropagation are used. Manually computing outputs at each layer is how forward propagation is carried out.\n",
    "During training, weights are updated and gradients are computed using backpropagation.\n",
    "\n",
    "Training and Evaluation: Three sets of data are created from the data: test, validation, and training.\n",
    "The model is trained on the training set and its performance is observed on the validation set to prevent overfitting.\n",
    "Ultimately, criteria including the F1-score, recall, accuracy, and precision are used to assess the test set.\n",
    "\n",
    "Visualization and Interpretation: To examine acquired features and acquire understanding of the model's decision-making, methods such as LIME or SHAP are taken into consideration.\n"
   ]
  },
  {
   "cell_type": "code",
   "execution_count": 17,
   "id": "b2d3398f",
   "metadata": {},
   "outputs": [],
   "source": [
    "# Load the dataset\n",
    "data = pd.read_csv(\"credit_card_fraud.csv\")"
   ]
  },
  {
   "cell_type": "code",
   "execution_count": 18,
   "id": "8eed1cb4",
   "metadata": {},
   "outputs": [
    {
     "name": "stdout",
     "output_type": "stream",
     "text": [
      "  Transaction Date and Time  Transaction Amount        Cardholder Name  \\\n",
      "0       2022-09-24 13:54:27              285.88            Shray Soman   \n",
      "1       2020-07-24 11:20:13             1777.32         Lakshit Bakshi   \n",
      "2       2023-03-18 01:05:36             3939.01             Riya Bobal   \n",
      "3       2021-01-07 21:53:04              376.44  Mohanlal Balakrishnan   \n",
      "4       2021-12-16 06:22:24             1687.33            Mannat Rout   \n",
      "\n",
      "                   Card Number (Hashed or Encrypted)  \\\n",
      "0  daca51bffe0fc4eaaa7c430917f94b75fd893712492254...   \n",
      "1  d5366dd9be3a0266c0252baceaa6332210ed4dbd0ef252...   \n",
      "2  4737a6384aa1c3c31f7768b86633d6a8401dd6ab4a8ff1...   \n",
      "3  4721806eed8f2663bb597ff13e79a294de318358fbb54b...   \n",
      "4  9deacc3a9efd6e382826d400620aca5f23ed94327578e5...   \n",
      "\n",
      "                 Merchant Name  Merchant Category Code (MCC)  \\\n",
      "0  Rajagopalan, Ghose and Kant                          3590   \n",
      "1                     Sule PLC                          7277   \n",
      "2                    Badal PLC                          9297   \n",
      "3                  Konda-Sodhi                          5686   \n",
      "4                      Dua Ltd                          2940   \n",
      "\n",
      "  Transaction Location (City or ZIP Code) Transaction Currency  \\\n",
      "0                                 Khammam                  INR   \n",
      "1                             Vasai-Virar                  EUR   \n",
      "2                             Nangloi Jat                  USD   \n",
      "3                              Ramagundam                  USD   \n",
      "4                                   Adoni                  INR   \n",
      "\n",
      "          Card Type Card Expiration Date  \\\n",
      "0        MasterCard                04/29   \n",
      "1  American Express                03/26   \n",
      "2              Visa                11/29   \n",
      "3              Visa                09/25   \n",
      "4        MasterCard                03/31   \n",
      "\n",
      "                      CVV Code (Hashed or Encrypted)  \\\n",
      "0  01299ac65733b5a3d774265fbfe8396b8611e5e3321855...   \n",
      "1  ad8fa913d25b3970c6efa8ca504da8ba670ce2a9cf012d...   \n",
      "2  eb3be230bbd2844b1f5d8f2e4fab9ffba8ab22cfeeb69c...   \n",
      "3  891d46993a36d78392247c642138cede01d9841daab1d9...   \n",
      "4  48a1a756f2d83f1dc57bbf14052b70a6f40d0fceed6662...   \n",
      "\n",
      "   Transaction Response Code                        Transaction ID  \\\n",
      "0                          5  b7f69cbc-a03d-41f8-adca-75920b0242c3   \n",
      "1                         12  ad53cc8e-8412-422e-8cad-4176daac8387   \n",
      "2                          5  f09cecd6-0d74-4551-8089-a31d64e6b9c5   \n",
      "3                          5  b208ae0b-4c4f-428f-b6b9-5360b288b947   \n",
      "4                          5  6b4e4e43-5b73-4906-9973-299a1b2a5e71   \n",
      "\n",
      "   Fraud Flag or Label Previous Transactions Transaction Source  \\\n",
      "0                    1                   NaN             Online   \n",
      "1                    1                   NaN             Online   \n",
      "2                    1             3 or more          In-Person   \n",
      "3                    0                     2          In-Person   \n",
      "4                    1                     2             Online   \n",
      "\n",
      "       IP Address Device Information User Account Information  \\\n",
      "0    18.106.240.6             Tablet                      NaN   \n",
      "1  212.48.185.128             Mobile                   jloyal   \n",
      "2   17.190.112.46             Mobile                      NaN   \n",
      "3  153.136.24.104             Tablet                      NaN   \n",
      "4  196.153.28.131            Desktop                      NaN   \n",
      "\n",
      "                                   Transaction Notes  \n",
      "0  Consequatur corporis minima ad vero deserunt n...  \n",
      "1  Dolore repellendus odio deleniti. Eaque quibus...  \n",
      "2  Unde beatae perspiciatis sapiente. Voluptates ...  \n",
      "3  Cupiditate repellendus necessitatibus quo occa...  \n",
      "4  Molestias assumenda consectetur itaque veritat...  \n"
     ]
    }
   ],
   "source": [
    "# after the data has been entered into the system, verify it.\n",
    "print(data.head())"
   ]
  },
  {
   "cell_type": "code",
   "execution_count": 19,
   "id": "2762b6f7",
   "metadata": {},
   "outputs": [
    {
     "name": "stdout",
     "output_type": "stream",
     "text": [
      "<class 'pandas.core.frame.DataFrame'>\n",
      "RangeIndex: 8000 entries, 0 to 7999\n",
      "Data columns (total 20 columns):\n",
      " #   Column                                   Non-Null Count  Dtype  \n",
      "---  ------                                   --------------  -----  \n",
      " 0   Transaction Date and Time                8000 non-null   object \n",
      " 1   Transaction Amount                       8000 non-null   float64\n",
      " 2   Cardholder Name                          8000 non-null   object \n",
      " 3   Card Number (Hashed or Encrypted)        8000 non-null   object \n",
      " 4   Merchant Name                            8000 non-null   object \n",
      " 5   Merchant Category Code (MCC)             8000 non-null   int64  \n",
      " 6   Transaction Location (City or ZIP Code)  8000 non-null   object \n",
      " 7   Transaction Currency                     8000 non-null   object \n",
      " 8   Card Type                                8000 non-null   object \n",
      " 9   Card Expiration Date                     8000 non-null   object \n",
      " 10  CVV Code (Hashed or Encrypted)           8000 non-null   object \n",
      " 11  Transaction Response Code                8000 non-null   int64  \n",
      " 12  Transaction ID                           8000 non-null   object \n",
      " 13  Fraud Flag or Label                      8000 non-null   int64  \n",
      " 14  Previous Transactions                    5957 non-null   object \n",
      " 15  Transaction Source                       8000 non-null   object \n",
      " 16  IP Address                               8000 non-null   object \n",
      " 17  Device Information                       8000 non-null   object \n",
      " 18  User Account Information                 3990 non-null   object \n",
      " 19  Transaction Notes                        8000 non-null   object \n",
      "dtypes: float64(1), int64(3), object(16)\n",
      "memory usage: 1.2+ MB\n",
      "None\n"
     ]
    }
   ],
   "source": [
    "#check the data frame format\n",
    "print(data.info())"
   ]
  },
  {
   "cell_type": "code",
   "execution_count": 20,
   "id": "f63e0398",
   "metadata": {},
   "outputs": [
    {
     "name": "stdout",
     "output_type": "stream",
     "text": [
      "Transaction Date and Time                     0\n",
      "Transaction Amount                            0\n",
      "Cardholder Name                               0\n",
      "Card Number (Hashed or Encrypted)             0\n",
      "Merchant Name                                 0\n",
      "Merchant Category Code (MCC)                  0\n",
      "Transaction Location (City or ZIP Code)       0\n",
      "Transaction Currency                          0\n",
      "Card Type                                     0\n",
      "Card Expiration Date                          0\n",
      "CVV Code (Hashed or Encrypted)                0\n",
      "Transaction Response Code                     0\n",
      "Transaction ID                                0\n",
      "Fraud Flag or Label                           0\n",
      "Previous Transactions                      2043\n",
      "Transaction Source                            0\n",
      "IP Address                                    0\n",
      "Device Information                            0\n",
      "User Account Information                   4010\n",
      "Transaction Notes                             0\n",
      "dtype: int64\n"
     ]
    }
   ],
   "source": [
    "print(data.isnull().sum())"
   ]
  },
  {
   "cell_type": "code",
   "execution_count": 21,
   "id": "c8a1b16f",
   "metadata": {},
   "outputs": [
    {
     "name": "stdout",
     "output_type": "stream",
     "text": [
      "Index(['Transaction Date and Time', 'Transaction Amount', 'Cardholder Name',\n",
      "       'Card Number (Hashed or Encrypted)', 'Merchant Name',\n",
      "       'Merchant Category Code (MCC)',\n",
      "       'Transaction Location (City or ZIP Code)', 'Transaction Currency',\n",
      "       'Card Type', 'Card Expiration Date', 'CVV Code (Hashed or Encrypted)',\n",
      "       'Transaction Response Code', 'Transaction ID', 'Fraud Flag or Label',\n",
      "       'Previous Transactions', 'Transaction Source', 'IP Address',\n",
      "       'Device Information', 'User Account Information', 'Transaction Notes'],\n",
      "      dtype='object')\n"
     ]
    }
   ],
   "source": [
    "# print the columns of the data that has been enterd. so the non required data can be removed\n",
    "print(data.columns)"
   ]
  },
  {
   "cell_type": "code",
   "execution_count": 22,
   "id": "938afa57",
   "metadata": {},
   "outputs": [
    {
     "name": "stdout",
     "output_type": "stream",
     "text": [
      "Fraud Flag or Label\n",
      "0    4011\n",
      "1    3989\n",
      "Name: count, dtype: int64\n"
     ]
    }
   ],
   "source": [
    "print(data['Fraud Flag or Label'].value_counts())"
   ]
  },
  {
   "cell_type": "code",
   "execution_count": 23,
   "id": "004b35d8",
   "metadata": {},
   "outputs": [
    {
     "data": {
      "image/png": "[encoded data removed]",
      "text/plain": [
       "<Figure size 640x480 with 1 Axes>"
      ]
     },
     "metadata": {},
     "output_type": "display_data"
    }
   ],
   "source": [
    "# Check class distribution\n",
    "sns.countplot(x='Fraud Flag or Label', data=data)\n",
    "plt.title('Class Distribution')\n",
    "plt.show()"
   ]
  },
  {
   "cell_type": "code",
   "execution_count": 24,
   "id": "83220616",
   "metadata": {},
   "outputs": [
    {
     "data": {
      "image/png": "[encoded data removed]",
      "text/plain": [
       "<Figure size 800x600 with 1 Axes>"
      ]
     },
     "metadata": {},
     "output_type": "display_data"
    }
   ],
   "source": [
    "plt.figure(figsize=(8, 6))\n",
    "sns.countplot(data['Fraud Flag or Label'])\n",
    "plt.title('Class Distribution')\n",
    "plt.xlabel('Fraud Flag or Label')\n",
    "plt.ylabel('Count')\n",
    "plt.show()"
   ]
  },
  {
   "cell_type": "code",
   "execution_count": 25,
   "id": "80b42842",
   "metadata": {},
   "outputs": [],
   "source": [
    "# Data preprocessing\n",
    "\n",
    "from sklearn.preprocessing import StandardScaler\n",
    "\n",
    "scaler = StandardScaler()\n",
    "data['Amount_Scaled'] = scaler.fit_transform(data['Transaction Amount'].values.reshape(-1, 1))\n",
    "data.drop(['Transaction Date and Time', 'Transaction Amount'], axis=1, inplace=True)  \n",
    "# Drop 'Transaction Date and Time' column and original 'Transaction Amount' column"
   ]
  },
  {
   "cell_type": "code",
   "execution_count": 26,
   "id": "8676abde",
   "metadata": {},
   "outputs": [
    {
     "name": "stdout",
     "output_type": "stream",
     "text": [
      "Accuracy: 0.495625\n",
      "Classification Report:\n",
      "               precision    recall  f1-score   support\n",
      "\n",
      "           0       0.49      0.43      0.46       793\n",
      "           1       0.50      0.56      0.53       807\n",
      "\n",
      "    accuracy                           0.50      1600\n",
      "   macro avg       0.49      0.50      0.49      1600\n",
      "weighted avg       0.49      0.50      0.49      1600\n",
      "\n",
      "Confusion Matrix:\n",
      " [[338 455]\n",
      " [352 455]]\n"
     ]
    }
   ],
   "source": [
    "# Select only numeric columns for training\n",
    "numeric_columns = ['Merchant Category Code (MCC)', 'Transaction Response Code', 'Fraud Flag or Label', 'Amount_Scaled']\n",
    "data_numeric = data[numeric_columns]\n",
    "\n",
    "# Split the data into features and target\n",
    "X = data_numeric.drop('Fraud Flag or Label', axis=1)\n",
    "y = data_numeric['Fraud Flag or Label']\n",
    "\n",
    "# Split the data into training and testing sets\n",
    "from sklearn.model_selection import train_test_split\n",
    "\n",
    "X_train, X_test, y_train, y_test = train_test_split(X, y, test_size=0.2, random_state=42)\n",
    "\n",
    "# Model training and evaluation\n",
    "from sklearn.linear_model import LogisticRegression\n",
    "from sklearn.metrics import accuracy_score, classification_report, confusion_matrix\n",
    "\n",
    "# Initialize the model\n",
    "model = LogisticRegression()\n",
    "\n",
    "# Train the model\n",
    "model.fit(X_train, y_train)\n",
    "\n",
    "# Predictions\n",
    "y_pred = model.predict(X_test)\n",
    "\n",
    "# Evaluation\n",
    "print(\"Accuracy:\", accuracy_score(y_test, y_pred))\n",
    "print(\"Classification Report:\\n\", classification_report(y_test, y_pred))\n",
    "print(\"Confusion Matrix:\\n\", confusion_matrix(y_test, y_pred))\n"
   ]
  },
  {
   "cell_type": "markdown",
   "id": "e649d1d0",
   "metadata": {},
   "source": [
    "Result:\n",
    "\n",
    "Accuracy: A model with an accuracy of 0.50 successfully identified half of the cases, which may be less than ideal in the context of fraud detection because false positives, or the mistaken identification of legitimate transactions as fraudulent, can be expensive.\n",
    "\n",
    "Precision and Recall: The model achieves a balance between identifying true positives and preventing false positives, as evidenced by the close proximity of the precision and recall scores. Nevertheless, both are nearly at 0.50, indicating room for improvement.\n",
    "\n",
    "F1-Score: Accompanying precision and recall, F1-scores also suggest that the model performs rather well, yet there is room for improvement.\n",
    "\n",
    "Confusion Matrix: Transactions successfully identified as fraudulent in both classifications (0 and 1) total 455, suggesting that the model correctly identifies frauds in both categories.\n",
    "352 transactions in class 1 and 455 legitimate transactions in class 0 were false positives, or transactions that were flagged as fraudulent. This demonstrates the necessity to reduce false positives, especially in light of the potential financial repercussions.\n",
    "338 fraudulent transactions were overlooked in class 0 and 455 in class 1, indicating false negatives. Achieving a balance between false positives and negatives is crucial, even as lowering false negatives—missing actual frauds—is essential."
   ]
  },
  {
   "cell_type": "code",
   "execution_count": 27,
   "id": "8f596abb",
   "metadata": {},
   "outputs": [
    {
     "data": {
      "image/png": "[encoded data removed]",
      "text/plain": [
       "<Figure size 800x600 with 1 Axes>"
      ]
     },
     "metadata": {},
     "output_type": "display_data"
    }
   ],
   "source": [
    "accuracy = accuracy_score(y_test, y_pred)\n",
    "\n",
    "# Plot the accuracy score\n",
    "plt.figure(figsize=(8, 6))\n",
    "plt.bar(['Metrics'], [accuracy], color='skyblue')\n",
    "plt.title('Model Accuracy')\n",
    "plt.ylabel('Accuracy')\n",
    "plt.ylim(0, 1)  # Set y-axis limit from 0 to 1\n",
    "plt.show()"
   ]
  },
  {
   "cell_type": "markdown",
   "id": "497c6da5",
   "metadata": {},
   "source": [
    "Additional Work:\n",
    "\n",
    "Investigate more complex architectures for possible improved performance, such as recurrent or convolutional neural networks.\n",
    "Use strategies such as class imbalance handling to deal with data distributions that are skewed.\n",
    "To improve feature representation and model interpretability, use feature engineering.\n",
    "\n",
    "In summary:\n",
    "\n",
    "This paper offers a PyTorch framework for developing a credit card fraud detection model. To prevent fraud and safeguard financial systems, one can create efficient models by grasping the fundamental ideas and putting them to innovative use. For a comprehensive report, don't forget to update placeholders with your real implementation details and conclusions.\n"
   ]
  }
 ],
 "metadata": {
  "kernelspec": {
   "display_name": "Python 3 (ipykernel)",
   "language": "python",
   "name": "python3"
  },
  "language_info": {
   "codemirror_mode": {
    "name": "ipython",
    "version": 3
   },
   "file_extension": ".py",
   "mimetype": "text/x-python",
   "name": "python",
   "nbconvert_exporter": "python",
   "pygments_lexer": "ipython3",
   "version": "3.11.5"
  }
 },
 "nbformat": 4,
 "nbformat_minor": 5
}
